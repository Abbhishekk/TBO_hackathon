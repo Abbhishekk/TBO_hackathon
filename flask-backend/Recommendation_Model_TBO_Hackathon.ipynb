{
  "nbformat": 4,
  "nbformat_minor": 0,
  "metadata": {
    "colab": {
      "provenance": []
    },
    "kernelspec": {
      "name": "python3",
      "display_name": "Python 3"
    },
    "language_info": {
      "name": "python"
    }
  },
  "cells": [
    {
      "cell_type": "code",
      "execution_count": 1,
      "metadata": {
        "colab": {
          "base_uri": "https://localhost:8080/"
        },
        "id": "sX9zkV5sTC3g",
        "outputId": "99056323-f348-45b6-d735-1a3074db67d3"
      },
      "outputs": [
        {
          "output_type": "stream",
          "name": "stdout",
          "text": [
            "Input Sentence: I enjoy near the lakes and exploring the beauty of temples.\n",
            "Temple: 0.75\n",
            "Beach: 0.64\n",
            "Fort: 0.23\n",
            "Lake: 0.71\n",
            "National Park: 0.36\n"
          ]
        }
      ],
      "source": [
        "import pandas as pd\n",
        "import numpy as np\n",
        "from sklearn.feature_extraction.text import TfidfVectorizer\n",
        "from sklearn.multioutput import MultiOutputRegressor\n",
        "from sklearn.ensemble import RandomForestRegressor\n",
        "\n",
        "# Step 1: Load the CSV file\n",
        "csv_file = \"tourist_interest_sentences.csv\"\n",
        "data = pd.read_csv(csv_file, encoding='ISO-8859-1')\n",
        "\n",
        "\n",
        "# Step 2: Preprocess the data\n",
        "sentences = data['Sentence'].tolist()\n",
        "\n",
        "# Assuming the rest of the columns contain the relevance scores for each class\n",
        "labels = data[['Temples', 'Beaches', 'Forts', 'Lakes', 'NationalParks', \"AdventureSports\",\t\"Amusement\",\t\"Nature\",\t\"Cultural\",\t\"UrbanDevelopment\",\t\"Scenic\"]].values\n",
        "\n",
        "# Step 3: Vectorize the sentences using TF-IDF\n",
        "vectorizer = TfidfVectorizer(max_features=300)  # Set max_features for dimensionality reduction\n",
        "sentence_embeddings = vectorizer.fit_transform(sentences).toarray()\n",
        "\n",
        "# Step 4: Train the model using MultiOutputRegressor with Random Forest\n",
        "regressor = MultiOutputRegressor(RandomForestRegressor(n_estimators=100, random_state=42))\n",
        "regressor.fit(sentence_embeddings, labels)\n",
        "\n",
        "# Step 5: Predict relevance scores for a new sentence\n",
        "def classify_sentence(input_sentence):\n",
        "    embedding = vectorizer.transform([input_sentence]).toarray()\n",
        "    scores = regressor.predict(embedding)\n",
        "    return np.array(scores).flatten()\n",
        "\n",
        "# Test with a new sentence\n",
        "input_sentence = \"I enjoy near the lakes and exploring the beauty of temples.\"\n",
        "scores = classify_sentence(input_sentence)\n",
        "\n",
        "# Output scores\n",
        "classes = [\"Temple\", \"Beach\", \"Fort\", \"Lake\", \"National Park\"]\n",
        "print(\"Input Sentence:\", input_sentence)\n",
        "for cls, score in zip(classes, scores):\n",
        "    print(f\"{cls}: {score:.2f}\")\n"
      ]
    },
    {
      "cell_type": "code",
      "source": [
        "import pickle\n",
        "with open(\"regressor_model.pkl\", \"wb\") as f:\n",
        "    pickle.dump(regressor, f)\n",
        "\n",
        "with open(\"vectorizer.pkl\", \"wb\") as f:\n",
        "    pickle.dump(vectorizer, f)\n",
        "\n",
        "print(\"Model and vectorizer saved successfully!\")"
      ],
      "metadata": {
        "colab": {
          "base_uri": "https://localhost:8080/"
        },
        "id": "9TXMDmmFTJAb",
        "outputId": "6f410c38-5686-4474-f796-c93e6af7e902"
      },
      "execution_count": 2,
      "outputs": [
        {
          "output_type": "stream",
          "name": "stdout",
          "text": [
            "Model and vectorizer saved successfully!\n"
          ]
        }
      ]
    }
  ]
}